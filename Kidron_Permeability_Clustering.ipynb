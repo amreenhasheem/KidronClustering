{
 "cells": [
  {
   "cell_type": "code",
   "execution_count": 1,
   "metadata": {},
   "outputs": [],
   "source": [
    "import pandas as pd"
   ]
  },
  {
   "cell_type": "code",
   "execution_count": 2,
   "metadata": {},
   "outputs": [
    {
     "data": {
      "text/html": [
       "<div>\n",
       "<style scoped>\n",
       "    .dataframe tbody tr th:only-of-type {\n",
       "        vertical-align: middle;\n",
       "    }\n",
       "\n",
       "    .dataframe tbody tr th {\n",
       "        vertical-align: top;\n",
       "    }\n",
       "\n",
       "    .dataframe thead th {\n",
       "        text-align: right;\n",
       "    }\n",
       "</style>\n",
       "<table border=\"1\" class=\"dataframe\">\n",
       "  <thead>\n",
       "    <tr style=\"text-align: right;\">\n",
       "      <th></th>\n",
       "      <th>Name</th>\n",
       "      <th>MW</th>\n",
       "      <th>MV</th>\n",
       "      <th>PSA</th>\n",
       "      <th>HBD</th>\n",
       "      <th>HBA</th>\n",
       "      <th>HBtot</th>\n",
       "      <th>logP</th>\n",
       "      <th>logD70</th>\n",
       "      <th>logD74</th>\n",
       "      <th>logD80</th>\n",
       "      <th>perm</th>\n",
       "    </tr>\n",
       "  </thead>\n",
       "  <tbody>\n",
       "    <tr>\n",
       "      <th>0</th>\n",
       "      <td>acetazolamideb,c</td>\n",
       "      <td>222.3</td>\n",
       "      <td>127</td>\n",
       "      <td>151.7</td>\n",
       "      <td>3</td>\n",
       "      <td>7</td>\n",
       "      <td>10</td>\n",
       "      <td>-0.26</td>\n",
       "      <td>-0.40</td>\n",
       "      <td>-0.55</td>\n",
       "      <td>-0.94</td>\n",
       "      <td>9.100000e-07</td>\n",
       "    </tr>\n",
       "    <tr>\n",
       "      <th>1</th>\n",
       "      <td>alprenolold</td>\n",
       "      <td>249.3</td>\n",
       "      <td>247</td>\n",
       "      <td>41.5</td>\n",
       "      <td>2</td>\n",
       "      <td>3</td>\n",
       "      <td>5</td>\n",
       "      <td>2.88</td>\n",
       "      <td>0.77</td>\n",
       "      <td>1.13</td>\n",
       "      <td>1.70</td>\n",
       "      <td>2.900000e-05</td>\n",
       "    </tr>\n",
       "    <tr>\n",
       "      <th>2</th>\n",
       "      <td>atenolole</td>\n",
       "      <td>266.3</td>\n",
       "      <td>237</td>\n",
       "      <td>84.6</td>\n",
       "      <td>4</td>\n",
       "      <td>5</td>\n",
       "      <td>9</td>\n",
       "      <td>0.10</td>\n",
       "      <td>-2.02</td>\n",
       "      <td>-1.65</td>\n",
       "      <td>-1.09</td>\n",
       "      <td>6.700000e-07</td>\n",
       "    </tr>\n",
       "    <tr>\n",
       "      <th>3</th>\n",
       "      <td>benzolamideb</td>\n",
       "      <td>320.4</td>\n",
       "      <td>183</td>\n",
       "      <td>177.1</td>\n",
       "      <td>3</td>\n",
       "      <td>8</td>\n",
       "      <td>11</td>\n",
       "      <td>0.20</td>\n",
       "      <td>-1.40</td>\n",
       "      <td>-1.70</td>\n",
       "      <td>-2.11</td>\n",
       "      <td>1.400000e-07</td>\n",
       "    </tr>\n",
       "    <tr>\n",
       "      <th>4</th>\n",
       "      <td>bevantolole</td>\n",
       "      <td>345.4</td>\n",
       "      <td>311</td>\n",
       "      <td>60.0</td>\n",
       "      <td>2</td>\n",
       "      <td>5</td>\n",
       "      <td>7</td>\n",
       "      <td>3.38</td>\n",
       "      <td>1.71</td>\n",
       "      <td>2.09</td>\n",
       "      <td>2.62</td>\n",
       "      <td>5.400000e-05</td>\n",
       "    </tr>\n",
       "  </tbody>\n",
       "</table>\n",
       "</div>"
      ],
      "text/plain": [
       "               Name     MW   MV    PSA  HBD  HBA  HBtot  logP  logD70  logD74  \\\n",
       "0  acetazolamideb,c  222.3  127  151.7    3    7     10 -0.26   -0.40   -0.55   \n",
       "1       alprenolold  249.3  247   41.5    2    3      5  2.88    0.77    1.13   \n",
       "2         atenolole  266.3  237   84.6    4    5      9  0.10   -2.02   -1.65   \n",
       "3      benzolamideb  320.4  183  177.1    3    8     11  0.20   -1.40   -1.70   \n",
       "4       bevantolole  345.4  311   60.0    2    5      7  3.38    1.71    2.09   \n",
       "\n",
       "   logD80          perm  \n",
       "0   -0.94  9.100000e-07  \n",
       "1    1.70  2.900000e-05  \n",
       "2   -1.09  6.700000e-07  \n",
       "3   -2.11  1.400000e-07  \n",
       "4    2.62  5.400000e-05  "
      ]
     },
     "execution_count": 2,
     "metadata": {},
     "output_type": "execute_result"
    }
   ],
   "source": [
    "dataset = pd.read_csv(\"D:\\Google Drive\\Drug Discovery\\Dataset\\Kidron_drug_discovery.csv\")\n",
    "dataset.head()"
   ]
  },
  {
   "cell_type": "code",
   "execution_count": 4,
   "metadata": {},
   "outputs": [
    {
     "data": {
      "text/plain": [
       "0.4260010344161657"
      ]
     },
     "execution_count": 4,
     "metadata": {},
     "output_type": "execute_result"
    }
   ],
   "source": [
    "dataset['logP'].corr(dataset['perm'])"
   ]
  },
  {
   "cell_type": "code",
   "execution_count": 6,
   "metadata": {},
   "outputs": [
    {
     "name": "stdout",
     "output_type": "stream",
     "text": [
      "-0.3593149714043735\n"
     ]
    }
   ],
   "source": [
    "print(dataset['perm'].corr(dataset['PSA']))"
   ]
  },
  {
   "cell_type": "code",
   "execution_count": 7,
   "metadata": {},
   "outputs": [
    {
     "data": {
      "text/html": [
       "<div>\n",
       "<style scoped>\n",
       "    .dataframe tbody tr th:only-of-type {\n",
       "        vertical-align: middle;\n",
       "    }\n",
       "\n",
       "    .dataframe tbody tr th {\n",
       "        vertical-align: top;\n",
       "    }\n",
       "\n",
       "    .dataframe thead th {\n",
       "        text-align: right;\n",
       "    }\n",
       "</style>\n",
       "<table border=\"1\" class=\"dataframe\">\n",
       "  <thead>\n",
       "    <tr style=\"text-align: right;\">\n",
       "      <th></th>\n",
       "      <th>MW</th>\n",
       "      <th>MV</th>\n",
       "      <th>PSA</th>\n",
       "      <th>HBD</th>\n",
       "      <th>HBA</th>\n",
       "      <th>HBtot</th>\n",
       "      <th>logP</th>\n",
       "      <th>logD70</th>\n",
       "      <th>logD74</th>\n",
       "      <th>logD80</th>\n",
       "      <th>perm</th>\n",
       "    </tr>\n",
       "  </thead>\n",
       "  <tbody>\n",
       "    <tr>\n",
       "      <th>0</th>\n",
       "      <td>222.3</td>\n",
       "      <td>127</td>\n",
       "      <td>151.7</td>\n",
       "      <td>3</td>\n",
       "      <td>7</td>\n",
       "      <td>10</td>\n",
       "      <td>-0.26</td>\n",
       "      <td>-0.40</td>\n",
       "      <td>-0.55</td>\n",
       "      <td>-0.94</td>\n",
       "      <td>9.100000e-07</td>\n",
       "    </tr>\n",
       "    <tr>\n",
       "      <th>1</th>\n",
       "      <td>249.3</td>\n",
       "      <td>247</td>\n",
       "      <td>41.5</td>\n",
       "      <td>2</td>\n",
       "      <td>3</td>\n",
       "      <td>5</td>\n",
       "      <td>2.88</td>\n",
       "      <td>0.77</td>\n",
       "      <td>1.13</td>\n",
       "      <td>1.70</td>\n",
       "      <td>2.900000e-05</td>\n",
       "    </tr>\n",
       "    <tr>\n",
       "      <th>2</th>\n",
       "      <td>266.3</td>\n",
       "      <td>237</td>\n",
       "      <td>84.6</td>\n",
       "      <td>4</td>\n",
       "      <td>5</td>\n",
       "      <td>9</td>\n",
       "      <td>0.10</td>\n",
       "      <td>-2.02</td>\n",
       "      <td>-1.65</td>\n",
       "      <td>-1.09</td>\n",
       "      <td>6.700000e-07</td>\n",
       "    </tr>\n",
       "    <tr>\n",
       "      <th>3</th>\n",
       "      <td>320.4</td>\n",
       "      <td>183</td>\n",
       "      <td>177.1</td>\n",
       "      <td>3</td>\n",
       "      <td>8</td>\n",
       "      <td>11</td>\n",
       "      <td>0.20</td>\n",
       "      <td>-1.40</td>\n",
       "      <td>-1.70</td>\n",
       "      <td>-2.11</td>\n",
       "      <td>1.400000e-07</td>\n",
       "    </tr>\n",
       "    <tr>\n",
       "      <th>4</th>\n",
       "      <td>345.4</td>\n",
       "      <td>311</td>\n",
       "      <td>60.0</td>\n",
       "      <td>2</td>\n",
       "      <td>5</td>\n",
       "      <td>7</td>\n",
       "      <td>3.38</td>\n",
       "      <td>1.71</td>\n",
       "      <td>2.09</td>\n",
       "      <td>2.62</td>\n",
       "      <td>5.400000e-05</td>\n",
       "    </tr>\n",
       "  </tbody>\n",
       "</table>\n",
       "</div>"
      ],
      "text/plain": [
       "      MW   MV    PSA  HBD  HBA  HBtot  logP  logD70  logD74  logD80  \\\n",
       "0  222.3  127  151.7    3    7     10 -0.26   -0.40   -0.55   -0.94   \n",
       "1  249.3  247   41.5    2    3      5  2.88    0.77    1.13    1.70   \n",
       "2  266.3  237   84.6    4    5      9  0.10   -2.02   -1.65   -1.09   \n",
       "3  320.4  183  177.1    3    8     11  0.20   -1.40   -1.70   -2.11   \n",
       "4  345.4  311   60.0    2    5      7  3.38    1.71    2.09    2.62   \n",
       "\n",
       "           perm  \n",
       "0  9.100000e-07  \n",
       "1  2.900000e-05  \n",
       "2  6.700000e-07  \n",
       "3  1.400000e-07  \n",
       "4  5.400000e-05  "
      ]
     },
     "execution_count": 7,
     "metadata": {},
     "output_type": "execute_result"
    }
   ],
   "source": [
    "dat_mod = dataset.iloc[:,1:]\n",
    "dat_mod.head()"
   ]
  },
  {
   "cell_type": "code",
   "execution_count": 10,
   "metadata": {},
   "outputs": [
    {
     "data": {
      "text/html": [
       "<div>\n",
       "<style scoped>\n",
       "    .dataframe tbody tr th:only-of-type {\n",
       "        vertical-align: middle;\n",
       "    }\n",
       "\n",
       "    .dataframe tbody tr th {\n",
       "        vertical-align: top;\n",
       "    }\n",
       "\n",
       "    .dataframe thead th {\n",
       "        text-align: right;\n",
       "    }\n",
       "</style>\n",
       "<table border=\"1\" class=\"dataframe\">\n",
       "  <thead>\n",
       "    <tr style=\"text-align: right;\">\n",
       "      <th></th>\n",
       "      <th>MW</th>\n",
       "      <th>MV</th>\n",
       "      <th>PSA</th>\n",
       "      <th>HBD</th>\n",
       "      <th>HBA</th>\n",
       "      <th>HBtot</th>\n",
       "      <th>logP</th>\n",
       "      <th>logD70</th>\n",
       "      <th>logD74</th>\n",
       "      <th>logD80</th>\n",
       "      <th>perm</th>\n",
       "    </tr>\n",
       "  </thead>\n",
       "  <tbody>\n",
       "    <tr>\n",
       "      <th>MW</th>\n",
       "      <td>1.000000</td>\n",
       "      <td>0.502400</td>\n",
       "      <td>0.304801</td>\n",
       "      <td>0.088730</td>\n",
       "      <td>0.625525</td>\n",
       "      <td>0.560004</td>\n",
       "      <td>0.424630</td>\n",
       "      <td>0.184313</td>\n",
       "      <td>0.148715</td>\n",
       "      <td>0.110058</td>\n",
       "      <td>-0.408368</td>\n",
       "    </tr>\n",
       "    <tr>\n",
       "      <th>MV</th>\n",
       "      <td>0.502400</td>\n",
       "      <td>1.000000</td>\n",
       "      <td>-0.155494</td>\n",
       "      <td>0.072099</td>\n",
       "      <td>-0.173694</td>\n",
       "      <td>-0.116071</td>\n",
       "      <td>0.426351</td>\n",
       "      <td>-0.006986</td>\n",
       "      <td>0.101961</td>\n",
       "      <td>0.264967</td>\n",
       "      <td>0.075261</td>\n",
       "    </tr>\n",
       "    <tr>\n",
       "      <th>PSA</th>\n",
       "      <td>0.304801</td>\n",
       "      <td>-0.155494</td>\n",
       "      <td>1.000000</td>\n",
       "      <td>0.128763</td>\n",
       "      <td>0.463428</td>\n",
       "      <td>0.440575</td>\n",
       "      <td>-0.090102</td>\n",
       "      <td>-0.066588</td>\n",
       "      <td>-0.140994</td>\n",
       "      <td>-0.236878</td>\n",
       "      <td>-0.359315</td>\n",
       "    </tr>\n",
       "    <tr>\n",
       "      <th>HBD</th>\n",
       "      <td>0.088730</td>\n",
       "      <td>0.072099</td>\n",
       "      <td>0.128763</td>\n",
       "      <td>1.000000</td>\n",
       "      <td>0.194186</td>\n",
       "      <td>0.570214</td>\n",
       "      <td>-0.260440</td>\n",
       "      <td>-0.228562</td>\n",
       "      <td>-0.215583</td>\n",
       "      <td>-0.182151</td>\n",
       "      <td>-0.459297</td>\n",
       "    </tr>\n",
       "    <tr>\n",
       "      <th>HBA</th>\n",
       "      <td>0.625525</td>\n",
       "      <td>-0.173694</td>\n",
       "      <td>0.463428</td>\n",
       "      <td>0.194186</td>\n",
       "      <td>1.000000</td>\n",
       "      <td>0.916587</td>\n",
       "      <td>-0.170588</td>\n",
       "      <td>-0.172360</td>\n",
       "      <td>-0.297147</td>\n",
       "      <td>-0.445807</td>\n",
       "      <td>-0.722534</td>\n",
       "    </tr>\n",
       "    <tr>\n",
       "      <th>HBtot</th>\n",
       "      <td>0.560004</td>\n",
       "      <td>-0.116071</td>\n",
       "      <td>0.440575</td>\n",
       "      <td>0.570214</td>\n",
       "      <td>0.916587</td>\n",
       "      <td>1.000000</td>\n",
       "      <td>-0.249011</td>\n",
       "      <td>-0.237501</td>\n",
       "      <td>-0.336713</td>\n",
       "      <td>-0.447579</td>\n",
       "      <td>-0.792284</td>\n",
       "    </tr>\n",
       "    <tr>\n",
       "      <th>logP</th>\n",
       "      <td>0.424630</td>\n",
       "      <td>0.426351</td>\n",
       "      <td>-0.090102</td>\n",
       "      <td>-0.260440</td>\n",
       "      <td>-0.170588</td>\n",
       "      <td>-0.249011</td>\n",
       "      <td>1.000000</td>\n",
       "      <td>0.737880</td>\n",
       "      <td>0.776644</td>\n",
       "      <td>0.812975</td>\n",
       "      <td>0.426001</td>\n",
       "    </tr>\n",
       "    <tr>\n",
       "      <th>logD70</th>\n",
       "      <td>0.184313</td>\n",
       "      <td>-0.006986</td>\n",
       "      <td>-0.066588</td>\n",
       "      <td>-0.228562</td>\n",
       "      <td>-0.172360</td>\n",
       "      <td>-0.237501</td>\n",
       "      <td>0.737880</td>\n",
       "      <td>1.000000</td>\n",
       "      <td>0.984263</td>\n",
       "      <td>0.904734</td>\n",
       "      <td>0.488353</td>\n",
       "    </tr>\n",
       "    <tr>\n",
       "      <th>logD74</th>\n",
       "      <td>0.148715</td>\n",
       "      <td>0.101961</td>\n",
       "      <td>-0.140994</td>\n",
       "      <td>-0.215583</td>\n",
       "      <td>-0.297147</td>\n",
       "      <td>-0.336713</td>\n",
       "      <td>0.776644</td>\n",
       "      <td>0.984263</td>\n",
       "      <td>1.000000</td>\n",
       "      <td>0.964619</td>\n",
       "      <td>0.563146</td>\n",
       "    </tr>\n",
       "    <tr>\n",
       "      <th>logD80</th>\n",
       "      <td>0.110058</td>\n",
       "      <td>0.264967</td>\n",
       "      <td>-0.236878</td>\n",
       "      <td>-0.182151</td>\n",
       "      <td>-0.445807</td>\n",
       "      <td>-0.447579</td>\n",
       "      <td>0.812975</td>\n",
       "      <td>0.904734</td>\n",
       "      <td>0.964619</td>\n",
       "      <td>1.000000</td>\n",
       "      <td>0.634637</td>\n",
       "    </tr>\n",
       "    <tr>\n",
       "      <th>perm</th>\n",
       "      <td>-0.408368</td>\n",
       "      <td>0.075261</td>\n",
       "      <td>-0.359315</td>\n",
       "      <td>-0.459297</td>\n",
       "      <td>-0.722534</td>\n",
       "      <td>-0.792284</td>\n",
       "      <td>0.426001</td>\n",
       "      <td>0.488353</td>\n",
       "      <td>0.563146</td>\n",
       "      <td>0.634637</td>\n",
       "      <td>1.000000</td>\n",
       "    </tr>\n",
       "  </tbody>\n",
       "</table>\n",
       "</div>"
      ],
      "text/plain": [
       "              MW        MV       PSA       HBD       HBA     HBtot      logP  \\\n",
       "MW      1.000000  0.502400  0.304801  0.088730  0.625525  0.560004  0.424630   \n",
       "MV      0.502400  1.000000 -0.155494  0.072099 -0.173694 -0.116071  0.426351   \n",
       "PSA     0.304801 -0.155494  1.000000  0.128763  0.463428  0.440575 -0.090102   \n",
       "HBD     0.088730  0.072099  0.128763  1.000000  0.194186  0.570214 -0.260440   \n",
       "HBA     0.625525 -0.173694  0.463428  0.194186  1.000000  0.916587 -0.170588   \n",
       "HBtot   0.560004 -0.116071  0.440575  0.570214  0.916587  1.000000 -0.249011   \n",
       "logP    0.424630  0.426351 -0.090102 -0.260440 -0.170588 -0.249011  1.000000   \n",
       "logD70  0.184313 -0.006986 -0.066588 -0.228562 -0.172360 -0.237501  0.737880   \n",
       "logD74  0.148715  0.101961 -0.140994 -0.215583 -0.297147 -0.336713  0.776644   \n",
       "logD80  0.110058  0.264967 -0.236878 -0.182151 -0.445807 -0.447579  0.812975   \n",
       "perm   -0.408368  0.075261 -0.359315 -0.459297 -0.722534 -0.792284  0.426001   \n",
       "\n",
       "          logD70    logD74    logD80      perm  \n",
       "MW      0.184313  0.148715  0.110058 -0.408368  \n",
       "MV     -0.006986  0.101961  0.264967  0.075261  \n",
       "PSA    -0.066588 -0.140994 -0.236878 -0.359315  \n",
       "HBD    -0.228562 -0.215583 -0.182151 -0.459297  \n",
       "HBA    -0.172360 -0.297147 -0.445807 -0.722534  \n",
       "HBtot  -0.237501 -0.336713 -0.447579 -0.792284  \n",
       "logP    0.737880  0.776644  0.812975  0.426001  \n",
       "logD70  1.000000  0.984263  0.904734  0.488353  \n",
       "logD74  0.984263  1.000000  0.964619  0.563146  \n",
       "logD80  0.904734  0.964619  1.000000  0.634637  \n",
       "perm    0.488353  0.563146  0.634637  1.000000  "
      ]
     },
     "execution_count": 10,
     "metadata": {},
     "output_type": "execute_result"
    }
   ],
   "source": [
    "dat_mod.dropna(inplace=True)\n",
    "dat_mod.corr()"
   ]
  },
  {
   "cell_type": "code",
   "execution_count": 41,
   "metadata": {},
   "outputs": [
    {
     "data": {
      "text/plain": [
       "<matplotlib.axes._subplots.AxesSubplot at 0x1d63f8c14e0>"
      ]
     },
     "execution_count": 41,
     "metadata": {},
     "output_type": "execute_result"
    },
    {
     "data": {
      "image/png": "[encoded data removed]",
      "text/plain": [
       "<Figure size 432x288 with 1 Axes>"
      ]
     },
     "metadata": {},
     "output_type": "display_data"
    }
   ],
   "source": [
    "sns.set_style(\"whitegrid\")\n",
    "sns.scatterplot(x='PSA', y='perm', data=dat_mod)"
   ]
  },
  {
   "cell_type": "code",
   "execution_count": 42,
   "metadata": {},
   "outputs": [
    {
     "data": {
      "text/plain": [
       "<matplotlib.axes._subplots.AxesSubplot at 0x1d63f9879b0>"
      ]
     },
     "execution_count": 42,
     "metadata": {},
     "output_type": "execute_result"
    },
    {
     "data": {
      "image/png": "[encoded data removed]",
      "text/plain": [
       "<Figure size 432x288 with 1 Axes>"
      ]
     },
     "metadata": {},
     "output_type": "display_data"
    }
   ],
   "source": [
    "sns.scatterplot(x='logP', y='perm', data=dat_mod)"
   ]
  },
  {
   "cell_type": "code",
   "execution_count": 43,
   "metadata": {},
   "outputs": [
    {
     "data": {
      "text/plain": [
       "<matplotlib.axes._subplots.AxesSubplot at 0x1d63f83aa20>"
      ]
     },
     "execution_count": 43,
     "metadata": {},
     "output_type": "execute_result"
    },
    {
     "data": {
      "image/png": "[encoded data removed]",
      "text/plain": [
       "<Figure size 432x288 with 1 Axes>"
      ]
     },
     "metadata": {},
     "output_type": "display_data"
    }
   ],
   "source": [
    "sns.scatterplot(x='logD80', y='perm', data=dat_mod)"
   ]
  },
  {
   "cell_type": "code",
   "execution_count": 11,
   "metadata": {},
   "outputs": [],
   "source": [
    "from sklearn.preprocessing import StandardScaler"
   ]
  },
  {
   "cell_type": "code",
   "execution_count": 13,
   "metadata": {},
   "outputs": [
    {
     "name": "stdout",
     "output_type": "stream",
     "text": [
      "<class 'pandas.core.frame.DataFrame'>\n",
      "Int64Index: 58 entries, 0 to 57\n",
      "Data columns (total 11 columns):\n",
      "MW        58 non-null float64\n",
      "MV        58 non-null float64\n",
      "PSA       58 non-null float64\n",
      "HBD       58 non-null float64\n",
      "HBA       58 non-null float64\n",
      "HBtot     58 non-null float64\n",
      "logP      58 non-null float64\n",
      "logD70    58 non-null float64\n",
      "logD74    58 non-null float64\n",
      "logD80    58 non-null float64\n",
      "perm      58 non-null float64\n",
      "dtypes: float64(11)\n",
      "memory usage: 5.4 KB\n"
     ]
    }
   ],
   "source": [
    "scaler = StandardScaler()\n",
    "dat_mod[['MW','MV', 'PSA','HBD', 'HBA', 'HBtot', 'logP', 'logD70', 'logD74','logD80','perm']] = scaler.fit_transform(dat_mod[['MW','MV', 'PSA','HBD', 'HBA', 'HBtot', 'logP', 'logD70', 'logD74','logD80','perm']])\n",
    "dat_mod.info()"
   ]
  },
  {
   "cell_type": "code",
   "execution_count": 14,
   "metadata": {},
   "outputs": [
    {
     "data": {
      "text/html": [
       "<div>\n",
       "<style scoped>\n",
       "    .dataframe tbody tr th:only-of-type {\n",
       "        vertical-align: middle;\n",
       "    }\n",
       "\n",
       "    .dataframe tbody tr th {\n",
       "        vertical-align: top;\n",
       "    }\n",
       "\n",
       "    .dataframe thead th {\n",
       "        text-align: right;\n",
       "    }\n",
       "</style>\n",
       "<table border=\"1\" class=\"dataframe\">\n",
       "  <thead>\n",
       "    <tr style=\"text-align: right;\">\n",
       "      <th></th>\n",
       "      <th>MW</th>\n",
       "      <th>MV</th>\n",
       "      <th>PSA</th>\n",
       "      <th>HBD</th>\n",
       "      <th>HBA</th>\n",
       "      <th>HBtot</th>\n",
       "      <th>logP</th>\n",
       "      <th>logD70</th>\n",
       "      <th>logD74</th>\n",
       "      <th>logD80</th>\n",
       "      <th>perm</th>\n",
       "    </tr>\n",
       "  </thead>\n",
       "  <tbody>\n",
       "    <tr>\n",
       "      <th>0</th>\n",
       "      <td>-1.129050</td>\n",
       "      <td>-1.345579</td>\n",
       "      <td>0.431028</td>\n",
       "      <td>0.993127</td>\n",
       "      <td>0.996953</td>\n",
       "      <td>1.239679</td>\n",
       "      <td>-1.558742</td>\n",
       "      <td>-0.638605</td>\n",
       "      <td>-0.812971</td>\n",
       "      <td>-1.106671</td>\n",
       "      <td>-0.856626</td>\n",
       "    </tr>\n",
       "    <tr>\n",
       "      <th>1</th>\n",
       "      <td>-0.605745</td>\n",
       "      <td>1.083163</td>\n",
       "      <td>-0.743494</td>\n",
       "      <td>-0.206901</td>\n",
       "      <td>-1.339341</td>\n",
       "      <td>-1.205946</td>\n",
       "      <td>0.987021</td>\n",
       "      <td>0.239525</td>\n",
       "      <td>0.465117</td>\n",
       "      <td>0.802018</td>\n",
       "      <td>0.462759</td>\n",
       "    </tr>\n",
       "    <tr>\n",
       "      <th>2</th>\n",
       "      <td>-0.276256</td>\n",
       "      <td>0.880768</td>\n",
       "      <td>-0.284130</td>\n",
       "      <td>2.193156</td>\n",
       "      <td>-0.171194</td>\n",
       "      <td>0.750554</td>\n",
       "      <td>-1.266871</td>\n",
       "      <td>-1.854477</td>\n",
       "      <td>-1.649814</td>\n",
       "      <td>-1.215119</td>\n",
       "      <td>-0.867899</td>\n",
       "    </tr>\n",
       "    <tr>\n",
       "      <th>3</th>\n",
       "      <td>0.772294</td>\n",
       "      <td>-0.212166</td>\n",
       "      <td>0.701744</td>\n",
       "      <td>0.993127</td>\n",
       "      <td>1.581027</td>\n",
       "      <td>1.728804</td>\n",
       "      <td>-1.185796</td>\n",
       "      <td>-1.389143</td>\n",
       "      <td>-1.687852</td>\n",
       "      <td>-1.952567</td>\n",
       "      <td>-0.892793</td>\n",
       "    </tr>\n",
       "    <tr>\n",
       "      <th>4</th>\n",
       "      <td>1.256836</td>\n",
       "      <td>2.378492</td>\n",
       "      <td>-0.546319</td>\n",
       "      <td>-0.206901</td>\n",
       "      <td>-0.171194</td>\n",
       "      <td>-0.227696</td>\n",
       "      <td>1.392398</td>\n",
       "      <td>0.945031</td>\n",
       "      <td>1.195453</td>\n",
       "      <td>1.467167</td>\n",
       "      <td>1.637007</td>\n",
       "    </tr>\n",
       "  </tbody>\n",
       "</table>\n",
       "</div>"
      ],
      "text/plain": [
       "         MW        MV       PSA       HBD       HBA     HBtot      logP  \\\n",
       "0 -1.129050 -1.345579  0.431028  0.993127  0.996953  1.239679 -1.558742   \n",
       "1 -0.605745  1.083163 -0.743494 -0.206901 -1.339341 -1.205946  0.987021   \n",
       "2 -0.276256  0.880768 -0.284130  2.193156 -0.171194  0.750554 -1.266871   \n",
       "3  0.772294 -0.212166  0.701744  0.993127  1.581027  1.728804 -1.185796   \n",
       "4  1.256836  2.378492 -0.546319 -0.206901 -0.171194 -0.227696  1.392398   \n",
       "\n",
       "     logD70    logD74    logD80      perm  \n",
       "0 -0.638605 -0.812971 -1.106671 -0.856626  \n",
       "1  0.239525  0.465117  0.802018  0.462759  \n",
       "2 -1.854477 -1.649814 -1.215119 -0.867899  \n",
       "3 -1.389143 -1.687852 -1.952567 -0.892793  \n",
       "4  0.945031  1.195453  1.467167  1.637007  "
      ]
     },
     "execution_count": 14,
     "metadata": {},
     "output_type": "execute_result"
    }
   ],
   "source": [
    "dat_mod.head()"
   ]
  },
  {
   "cell_type": "code",
   "execution_count": 15,
   "metadata": {},
   "outputs": [
    {
     "data": {
      "text/html": [
       "<div>\n",
       "<style scoped>\n",
       "    .dataframe tbody tr th:only-of-type {\n",
       "        vertical-align: middle;\n",
       "    }\n",
       "\n",
       "    .dataframe tbody tr th {\n",
       "        vertical-align: top;\n",
       "    }\n",
       "\n",
       "    .dataframe thead th {\n",
       "        text-align: right;\n",
       "    }\n",
       "</style>\n",
       "<table border=\"1\" class=\"dataframe\">\n",
       "  <thead>\n",
       "    <tr style=\"text-align: right;\">\n",
       "      <th></th>\n",
       "      <th>MW</th>\n",
       "      <th>MV</th>\n",
       "      <th>PSA</th>\n",
       "      <th>HBD</th>\n",
       "      <th>HBA</th>\n",
       "      <th>HBtot</th>\n",
       "      <th>logP</th>\n",
       "      <th>logD70</th>\n",
       "      <th>logD74</th>\n",
       "      <th>logD80</th>\n",
       "      <th>perm</th>\n",
       "    </tr>\n",
       "  </thead>\n",
       "  <tbody>\n",
       "    <tr>\n",
       "      <th>MW</th>\n",
       "      <td>1.000000</td>\n",
       "      <td>0.502400</td>\n",
       "      <td>0.304801</td>\n",
       "      <td>0.088730</td>\n",
       "      <td>0.625525</td>\n",
       "      <td>0.560004</td>\n",
       "      <td>0.424630</td>\n",
       "      <td>0.184313</td>\n",
       "      <td>0.148715</td>\n",
       "      <td>0.110058</td>\n",
       "      <td>-0.408368</td>\n",
       "    </tr>\n",
       "    <tr>\n",
       "      <th>MV</th>\n",
       "      <td>0.502400</td>\n",
       "      <td>1.000000</td>\n",
       "      <td>-0.155494</td>\n",
       "      <td>0.072099</td>\n",
       "      <td>-0.173694</td>\n",
       "      <td>-0.116071</td>\n",
       "      <td>0.426351</td>\n",
       "      <td>-0.006986</td>\n",
       "      <td>0.101961</td>\n",
       "      <td>0.264967</td>\n",
       "      <td>0.075261</td>\n",
       "    </tr>\n",
       "    <tr>\n",
       "      <th>PSA</th>\n",
       "      <td>0.304801</td>\n",
       "      <td>-0.155494</td>\n",
       "      <td>1.000000</td>\n",
       "      <td>0.128763</td>\n",
       "      <td>0.463428</td>\n",
       "      <td>0.440575</td>\n",
       "      <td>-0.090102</td>\n",
       "      <td>-0.066588</td>\n",
       "      <td>-0.140994</td>\n",
       "      <td>-0.236878</td>\n",
       "      <td>-0.359315</td>\n",
       "    </tr>\n",
       "    <tr>\n",
       "      <th>HBD</th>\n",
       "      <td>0.088730</td>\n",
       "      <td>0.072099</td>\n",
       "      <td>0.128763</td>\n",
       "      <td>1.000000</td>\n",
       "      <td>0.194186</td>\n",
       "      <td>0.570214</td>\n",
       "      <td>-0.260440</td>\n",
       "      <td>-0.228562</td>\n",
       "      <td>-0.215583</td>\n",
       "      <td>-0.182151</td>\n",
       "      <td>-0.459297</td>\n",
       "    </tr>\n",
       "    <tr>\n",
       "      <th>HBA</th>\n",
       "      <td>0.625525</td>\n",
       "      <td>-0.173694</td>\n",
       "      <td>0.463428</td>\n",
       "      <td>0.194186</td>\n",
       "      <td>1.000000</td>\n",
       "      <td>0.916587</td>\n",
       "      <td>-0.170588</td>\n",
       "      <td>-0.172360</td>\n",
       "      <td>-0.297147</td>\n",
       "      <td>-0.445807</td>\n",
       "      <td>-0.722534</td>\n",
       "    </tr>\n",
       "    <tr>\n",
       "      <th>HBtot</th>\n",
       "      <td>0.560004</td>\n",
       "      <td>-0.116071</td>\n",
       "      <td>0.440575</td>\n",
       "      <td>0.570214</td>\n",
       "      <td>0.916587</td>\n",
       "      <td>1.000000</td>\n",
       "      <td>-0.249011</td>\n",
       "      <td>-0.237501</td>\n",
       "      <td>-0.336713</td>\n",
       "      <td>-0.447579</td>\n",
       "      <td>-0.792284</td>\n",
       "    </tr>\n",
       "    <tr>\n",
       "      <th>logP</th>\n",
       "      <td>0.424630</td>\n",
       "      <td>0.426351</td>\n",
       "      <td>-0.090102</td>\n",
       "      <td>-0.260440</td>\n",
       "      <td>-0.170588</td>\n",
       "      <td>-0.249011</td>\n",
       "      <td>1.000000</td>\n",
       "      <td>0.737880</td>\n",
       "      <td>0.776644</td>\n",
       "      <td>0.812975</td>\n",
       "      <td>0.426001</td>\n",
       "    </tr>\n",
       "    <tr>\n",
       "      <th>logD70</th>\n",
       "      <td>0.184313</td>\n",
       "      <td>-0.006986</td>\n",
       "      <td>-0.066588</td>\n",
       "      <td>-0.228562</td>\n",
       "      <td>-0.172360</td>\n",
       "      <td>-0.237501</td>\n",
       "      <td>0.737880</td>\n",
       "      <td>1.000000</td>\n",
       "      <td>0.984263</td>\n",
       "      <td>0.904734</td>\n",
       "      <td>0.488353</td>\n",
       "    </tr>\n",
       "    <tr>\n",
       "      <th>logD74</th>\n",
       "      <td>0.148715</td>\n",
       "      <td>0.101961</td>\n",
       "      <td>-0.140994</td>\n",
       "      <td>-0.215583</td>\n",
       "      <td>-0.297147</td>\n",
       "      <td>-0.336713</td>\n",
       "      <td>0.776644</td>\n",
       "      <td>0.984263</td>\n",
       "      <td>1.000000</td>\n",
       "      <td>0.964619</td>\n",
       "      <td>0.563146</td>\n",
       "    </tr>\n",
       "    <tr>\n",
       "      <th>logD80</th>\n",
       "      <td>0.110058</td>\n",
       "      <td>0.264967</td>\n",
       "      <td>-0.236878</td>\n",
       "      <td>-0.182151</td>\n",
       "      <td>-0.445807</td>\n",
       "      <td>-0.447579</td>\n",
       "      <td>0.812975</td>\n",
       "      <td>0.904734</td>\n",
       "      <td>0.964619</td>\n",
       "      <td>1.000000</td>\n",
       "      <td>0.634637</td>\n",
       "    </tr>\n",
       "    <tr>\n",
       "      <th>perm</th>\n",
       "      <td>-0.408368</td>\n",
       "      <td>0.075261</td>\n",
       "      <td>-0.359315</td>\n",
       "      <td>-0.459297</td>\n",
       "      <td>-0.722534</td>\n",
       "      <td>-0.792284</td>\n",
       "      <td>0.426001</td>\n",
       "      <td>0.488353</td>\n",
       "      <td>0.563146</td>\n",
       "      <td>0.634637</td>\n",
       "      <td>1.000000</td>\n",
       "    </tr>\n",
       "  </tbody>\n",
       "</table>\n",
       "</div>"
      ],
      "text/plain": [
       "              MW        MV       PSA       HBD       HBA     HBtot      logP  \\\n",
       "MW      1.000000  0.502400  0.304801  0.088730  0.625525  0.560004  0.424630   \n",
       "MV      0.502400  1.000000 -0.155494  0.072099 -0.173694 -0.116071  0.426351   \n",
       "PSA     0.304801 -0.155494  1.000000  0.128763  0.463428  0.440575 -0.090102   \n",
       "HBD     0.088730  0.072099  0.128763  1.000000  0.194186  0.570214 -0.260440   \n",
       "HBA     0.625525 -0.173694  0.463428  0.194186  1.000000  0.916587 -0.170588   \n",
       "HBtot   0.560004 -0.116071  0.440575  0.570214  0.916587  1.000000 -0.249011   \n",
       "logP    0.424630  0.426351 -0.090102 -0.260440 -0.170588 -0.249011  1.000000   \n",
       "logD70  0.184313 -0.006986 -0.066588 -0.228562 -0.172360 -0.237501  0.737880   \n",
       "logD74  0.148715  0.101961 -0.140994 -0.215583 -0.297147 -0.336713  0.776644   \n",
       "logD80  0.110058  0.264967 -0.236878 -0.182151 -0.445807 -0.447579  0.812975   \n",
       "perm   -0.408368  0.075261 -0.359315 -0.459297 -0.722534 -0.792284  0.426001   \n",
       "\n",
       "          logD70    logD74    logD80      perm  \n",
       "MW      0.184313  0.148715  0.110058 -0.408368  \n",
       "MV     -0.006986  0.101961  0.264967  0.075261  \n",
       "PSA    -0.066588 -0.140994 -0.236878 -0.359315  \n",
       "HBD    -0.228562 -0.215583 -0.182151 -0.459297  \n",
       "HBA    -0.172360 -0.297147 -0.445807 -0.722534  \n",
       "HBtot  -0.237501 -0.336713 -0.447579 -0.792284  \n",
       "logP    0.737880  0.776644  0.812975  0.426001  \n",
       "logD70  1.000000  0.984263  0.904734  0.488353  \n",
       "logD74  0.984263  1.000000  0.964619  0.563146  \n",
       "logD80  0.904734  0.964619  1.000000  0.634637  \n",
       "perm    0.488353  0.563146  0.634637  1.000000  "
      ]
     },
     "execution_count": 15,
     "metadata": {},
     "output_type": "execute_result"
    }
   ],
   "source": [
    "dat_mod.corr()"
   ]
  },
  {
   "cell_type": "code",
   "execution_count": 17,
   "metadata": {},
   "outputs": [],
   "source": [
    "import matplotlib.pyplot as plt\n",
    "import numpy as np\n",
    "import seaborn as sns"
   ]
  },
  {
   "cell_type": "code",
   "execution_count": 19,
   "metadata": {},
   "outputs": [
    {
     "data": {
      "text/plain": [
       "<matplotlib.axes._subplots.AxesSubplot at 0x1d63f05d160>"
      ]
     },
     "execution_count": 19,
     "metadata": {},
     "output_type": "execute_result"
    },
    {
     "data": {
      "image/png": "[encoded data removed]",
      "text/plain": [
       "<Figure size 432x288 with 2 Axes>"
      ]
     },
     "metadata": {
      "needs_background": "light"
     },
     "output_type": "display_data"
    }
   ],
   "source": [
    "sns.heatmap(dat_mod.corr(), cmap=\"coolwarm\")"
   ]
  },
  {
   "cell_type": "code",
   "execution_count": 20,
   "metadata": {},
   "outputs": [],
   "source": [
    "from sklearn.cluster import KMeans"
   ]
  },
  {
   "cell_type": "code",
   "execution_count": 21,
   "metadata": {},
   "outputs": [],
   "source": [
    "kmeans = KMeans(n_clusters=3, random_state=0)\n",
    "#kmeans.fit_transform(df)\n",
    "y_kmeans = kmeans.fit_predict(dat_mod)"
   ]
  },
  {
   "cell_type": "code",
   "execution_count": 22,
   "metadata": {},
   "outputs": [
    {
     "data": {
      "text/plain": [
       "array([2, 1, 2, 2, 1, 2, 1, 0, 1, 0, 1, 1, 1, 0, 1, 1, 0, 0, 0, 1, 0, 1,\n",
       "       0, 2, 2, 1, 0, 1, 1, 2, 0, 1, 1, 1, 1, 1, 2, 1, 1, 0, 0, 0, 0, 0,\n",
       "       0, 0, 0, 0, 2, 0, 0, 0, 2, 2, 0, 0, 0, 0])"
      ]
     },
     "execution_count": 22,
     "metadata": {},
     "output_type": "execute_result"
    }
   ],
   "source": [
    "y_kmeans"
   ]
  },
  {
   "cell_type": "code",
   "execution_count": 23,
   "metadata": {},
   "outputs": [],
   "source": [
    "from sklearn.decomposition import PCA"
   ]
  },
  {
   "cell_type": "code",
   "execution_count": 24,
   "metadata": {},
   "outputs": [],
   "source": [
    "pca = PCA(n_components=2)\n",
    "pComponents = pca.fit_transform(dat_mod)\n",
    "pDf = pd.DataFrame(data = pComponents\n",
    "             , columns = ['pc1', 'pc2'])"
   ]
  },
  {
   "cell_type": "code",
   "execution_count": 25,
   "metadata": {},
   "outputs": [
    {
     "data": {
      "text/html": [
       "<div>\n",
       "<style scoped>\n",
       "    .dataframe tbody tr th:only-of-type {\n",
       "        vertical-align: middle;\n",
       "    }\n",
       "\n",
       "    .dataframe tbody tr th {\n",
       "        vertical-align: top;\n",
       "    }\n",
       "\n",
       "    .dataframe thead th {\n",
       "        text-align: right;\n",
       "    }\n",
       "</style>\n",
       "<table border=\"1\" class=\"dataframe\">\n",
       "  <thead>\n",
       "    <tr style=\"text-align: right;\">\n",
       "      <th></th>\n",
       "      <th>pc1</th>\n",
       "      <th>pc2</th>\n",
       "    </tr>\n",
       "  </thead>\n",
       "  <tbody>\n",
       "    <tr>\n",
       "      <th>0</th>\n",
       "      <td>-2.911206</td>\n",
       "      <td>0.811302</td>\n",
       "    </tr>\n",
       "    <tr>\n",
       "      <th>1</th>\n",
       "      <td>2.246814</td>\n",
       "      <td>0.647047</td>\n",
       "    </tr>\n",
       "    <tr>\n",
       "      <th>2</th>\n",
       "      <td>-3.035813</td>\n",
       "      <td>1.000711</td>\n",
       "    </tr>\n",
       "    <tr>\n",
       "      <th>3</th>\n",
       "      <td>-4.158543</td>\n",
       "      <td>-0.429795</td>\n",
       "    </tr>\n",
       "    <tr>\n",
       "      <th>4</th>\n",
       "      <td>2.922025</td>\n",
       "      <td>-1.860359</td>\n",
       "    </tr>\n",
       "  </tbody>\n",
       "</table>\n",
       "</div>"
      ],
      "text/plain": [
       "        pc1       pc2\n",
       "0 -2.911206  0.811302\n",
       "1  2.246814  0.647047\n",
       "2 -3.035813  1.000711\n",
       "3 -4.158543 -0.429795\n",
       "4  2.922025 -1.860359"
      ]
     },
     "execution_count": 25,
     "metadata": {},
     "output_type": "execute_result"
    }
   ],
   "source": [
    "pDf.head()"
   ]
  },
  {
   "cell_type": "code",
   "execution_count": 44,
   "metadata": {},
   "outputs": [
    {
     "data": {
      "text/plain": [
       "<matplotlib.axes._subplots.AxesSubplot at 0x1d63fa51ba8>"
      ]
     },
     "execution_count": 44,
     "metadata": {},
     "output_type": "execute_result"
    },
    {
     "data": {
      "image/png": "[encoded data removed]",
      "text/plain": [
       "<Figure size 432x288 with 1 Axes>"
      ]
     },
     "metadata": {},
     "output_type": "display_data"
    }
   ],
   "source": [
    "# finalDf = pd.concat([principalDf, df[['target']]], axis = 1)\n",
    "pDf.plot.scatter(x='pc1', y='pc2')"
   ]
  },
  {
   "cell_type": "code",
   "execution_count": 45,
   "metadata": {},
   "outputs": [
    {
     "data": {
      "image/png": "[encoded data removed]",
      "text/plain": [
       "<Figure size 432x288 with 1 Axes>"
      ]
     },
     "metadata": {},
     "output_type": "display_data"
    }
   ],
   "source": [
    "plt.scatter(pDf.iloc[:, 0], pDf.iloc[:, 1], c=y_kmeans, s=50, cmap='viridis')\n",
    "\n",
    "centers = kmeans.cluster_centers_\n",
    "plt.scatter(centers[:, 0], centers[:, 1], c='black', s=200, alpha=0.5);"
   ]
  },
  {
   "cell_type": "code",
   "execution_count": 46,
   "metadata": {},
   "outputs": [],
   "source": [
    "from sklearn import metrics\n",
    "from scipy.spatial.distance import cdist"
   ]
  },
  {
   "cell_type": "code",
   "execution_count": 47,
   "metadata": {},
   "outputs": [
    {
     "data": {
      "image/png": "[encoded data removed]",
      "text/plain": [
       "<Figure size 432x288 with 1 Axes>"
      ]
     },
     "metadata": {},
     "output_type": "display_data"
    }
   ],
   "source": [
    "# k means determine k\n",
    "distortions = []\n",
    "K = range(1,10)\n",
    "for k in K:\n",
    "    km = KMeans(n_clusters=k).fit(dat_mod)\n",
    "    km.fit(dat_mod)\n",
    "    distortions.append(sum(np.min(cdist(dat_mod, km.cluster_centers_, 'euclidean'), axis=1)) / dat_mod.shape[0])\n",
    "\n",
    "# Plot the elbow\n",
    "plt.plot(K, distortions, 'bx-')\n",
    "plt.xlabel('k')\n",
    "plt.ylabel('Distortion')\n",
    "plt.title('The Elbow Method showing the optimal k')\n",
    "plt.show()"
   ]
  },
  {
   "cell_type": "code",
   "execution_count": 48,
   "metadata": {},
   "outputs": [
    {
     "data": {
      "image/png": "[encoded data removed]",
      "text/plain": [
       "<Figure size 432x288 with 1 Axes>"
      ]
     },
     "metadata": {},
     "output_type": "display_data"
    }
   ],
   "source": [
    "# determine k using pDf\n",
    "distortions = []\n",
    "K = range(1,10)\n",
    "for k in K:\n",
    "    km = KMeans(n_clusters=k).fit(pDf)\n",
    "    km.fit(pDf)\n",
    "    distortions.append(sum(np.min(cdist(pDf, km.cluster_centers_, 'euclidean'), axis=1)) / pDf.shape[0])\n",
    "\n",
    "# Plot the elbow\n",
    "plt.plot(K, distortions, 'bx-')\n",
    "plt.xlabel('k')\n",
    "plt.ylabel('Distortion')\n",
    "plt.title('The Elbow Method showing the optimal k')\n",
    "plt.show()"
   ]
  },
  {
   "cell_type": "code",
   "execution_count": 49,
   "metadata": {},
   "outputs": [],
   "source": [
    "kmeans = KMeans(n_clusters=3)\n",
    "clusters = kmeans.fit_predict(pDf)"
   ]
  },
  {
   "cell_type": "code",
   "execution_count": 50,
   "metadata": {},
   "outputs": [
    {
     "data": {
      "image/png": "[encoded data removed]",
      "text/plain": [
       "<Figure size 432x288 with 1 Axes>"
      ]
     },
     "metadata": {},
     "output_type": "display_data"
    }
   ],
   "source": [
    "plt.scatter(pDf.iloc[:, 0], pDf.iloc[:, 1], c=clusters, s=50, cmap='viridis')\n",
    "\n",
    "centers = kmeans.cluster_centers_\n",
    "plt.scatter(centers[:, 0], centers[:, 1], c='black', s=200, alpha=0.5);"
   ]
  },
  {
   "cell_type": "code",
   "execution_count": null,
   "metadata": {},
   "outputs": [],
   "source": []
  }
 ],
 "metadata": {
  "kernelspec": {
   "display_name": "Python 3",
   "language": "python",
   "name": "python3"
  },
  "language_info": {
   "codemirror_mode": {
    "name": "ipython",
    "version": 3
   },
   "file_extension": ".py",
   "mimetype": "text/x-python",
   "name": "python",
   "nbconvert_exporter": "python",
   "pygments_lexer": "ipython3",
   "version": "3.7.3"
  }
 },
 "nbformat": 4,
 "nbformat_minor": 2
}
